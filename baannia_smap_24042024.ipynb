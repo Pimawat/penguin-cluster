{
 "cells": [
  {
   "cell_type": "code",
   "execution_count": 1,
   "id": "9183cb65",
   "metadata": {},
   "outputs": [],
   "source": [
    "#pip install googletrans"
   ]
  },
  {
   "cell_type": "code",
   "execution_count": 2,
   "id": "a84ba1fe",
   "metadata": {},
   "outputs": [],
   "source": [
    "#pip install --upgrade certifi"
   ]
  },
  {
   "cell_type": "code",
   "execution_count": 3,
   "id": "27456920",
   "metadata": {},
   "outputs": [],
   "source": [
    "#pip install fairseq"
   ]
  },
  {
   "cell_type": "code",
   "execution_count": 4,
   "id": "026b2c79",
   "metadata": {},
   "outputs": [],
   "source": [
    "#pip install python-Levenshtein"
   ]
  },
  {
   "cell_type": "code",
   "execution_count": 5,
   "id": "2649b15c",
   "metadata": {},
   "outputs": [],
   "source": [
    "#pip install sacremoses sentencepiece\n",
    "#!pip install sacremoses"
   ]
  },
  {
   "cell_type": "code",
   "execution_count": 6,
   "id": "1e57a731",
   "metadata": {},
   "outputs": [],
   "source": [
    "#pip install https://github.com/PyThaiNLP/pythainlp/archive/dev.zip"
   ]
  },
  {
   "cell_type": "code",
   "execution_count": 7,
   "id": "7ca30b1a",
   "metadata": {},
   "outputs": [],
   "source": [
    "#!pip install pythainlp"
   ]
  },
  {
   "cell_type": "code",
   "execution_count": 8,
   "id": "bd1c5ee3",
   "metadata": {},
   "outputs": [],
   "source": [
    "#!pip install epitran"
   ]
  },
  {
   "cell_type": "code",
   "execution_count": 9,
   "id": "ed4ccbf1",
   "metadata": {},
   "outputs": [],
   "source": [
    "#pip install python-crfsuite"
   ]
  },
  {
   "cell_type": "code",
   "execution_count": 10,
   "id": "8c104f79",
   "metadata": {},
   "outputs": [],
   "source": [
    "#pip install transformers"
   ]
  },
  {
   "cell_type": "code",
   "execution_count": 11,
   "id": "eac23458",
   "metadata": {},
   "outputs": [
    {
     "name": "stderr",
     "output_type": "stream",
     "text": [
      "None of PyTorch, TensorFlow >= 2.0, or Flax have been found. Models won't be available and only tokenizers, configuration and file/data utilities can be used.\n"
     ]
    }
   ],
   "source": [
    "import pandas as pd\n",
    "import numpy as np\n",
    "# import matplotlib.pyplot as plt\n",
    "# import seaborn as sns\n",
    "# import matplotlib\n",
    "\n",
    "# from geopy.distance import distance\n",
    "import editdistance\n",
    "import concurrent.futures\n",
    "\n",
    "import re\n",
    "from tqdm import tqdm\n",
    "\n",
    "from googletrans import Translator\n",
    "import pythainlp\n",
    "from pythainlp import sent_tokenize,correct\n",
    "from pythainlp.tokenize.multi_cut import find_all_segment, mmcut, segment\n",
    "from pythainlp.soundex import lk82, metasound, udom83\n",
    "from pythainlp.translate import Translate\n",
    "\n",
    "from Levenshtein import distance\n",
    "from Levenshtein import ratio"
   ]
  },
  {
   "cell_type": "markdown",
   "id": "77dd3e06",
   "metadata": {},
   "source": [
    "# Import data"
   ]
  },
  {
   "cell_type": "code",
   "execution_count": 12,
   "id": "0406a7d3",
   "metadata": {},
   "outputs": [],
   "source": [
    "smap_df = pd.read_excel('smap_baannia.xlsx', sheet_name='smap')\n",
    "baannia_df = pd.read_excel('smap_baannia.xlsx', sheet_name='baannia')"
   ]
  },
  {
   "cell_type": "code",
   "execution_count": 13,
   "id": "80504db5",
   "metadata": {},
   "outputs": [
    {
     "data": {
      "text/html": [
       "<div>\n",
       "<style scoped>\n",
       "    .dataframe tbody tr th:only-of-type {\n",
       "        vertical-align: middle;\n",
       "    }\n",
       "\n",
       "    .dataframe tbody tr th {\n",
       "        vertical-align: top;\n",
       "    }\n",
       "\n",
       "    .dataframe thead th {\n",
       "        text-align: right;\n",
       "    }\n",
       "</style>\n",
       "<table border=\"1\" class=\"dataframe\">\n",
       "  <thead>\n",
       "    <tr style=\"text-align: right;\">\n",
       "      <th></th>\n",
       "      <th>hs_nm</th>\n",
       "    </tr>\n",
       "  </thead>\n",
       "  <tbody>\n",
       "    <tr>\n",
       "      <th>0</th>\n",
       "      <td>วงศ์ทองโคกเมา 2</td>\n",
       "    </tr>\n",
       "    <tr>\n",
       "      <th>1</th>\n",
       "      <td>ซิลวาโน คลองแห</td>\n",
       "    </tr>\n",
       "    <tr>\n",
       "      <th>2</th>\n",
       "      <td>ทรัพย์จุไร</td>\n",
       "    </tr>\n",
       "    <tr>\n",
       "      <th>3</th>\n",
       "      <td>ร่มฉัตร</td>\n",
       "    </tr>\n",
       "    <tr>\n",
       "      <th>4</th>\n",
       "      <td>ร่มรื่นริเวอร์ไซด์</td>\n",
       "    </tr>\n",
       "    <tr>\n",
       "      <th>5</th>\n",
       "      <td>ศิรดา แกรนด์ วิลล์</td>\n",
       "    </tr>\n",
       "    <tr>\n",
       "      <th>6</th>\n",
       "      <td>ศุภาลัย การ์เด้นวิลล์</td>\n",
       "    </tr>\n",
       "    <tr>\n",
       "      <th>7</th>\n",
       "      <td>Mplus</td>\n",
       "    </tr>\n",
       "    <tr>\n",
       "      <th>8</th>\n",
       "      <td>กุณสิริ</td>\n",
       "    </tr>\n",
       "    <tr>\n",
       "      <th>9</th>\n",
       "      <td>พฤกษา แกรนด์วิลล์</td>\n",
       "    </tr>\n",
       "  </tbody>\n",
       "</table>\n",
       "</div>"
      ],
      "text/plain": [
       "                   hs_nm\n",
       "0        วงศ์ทองโคกเมา 2\n",
       "1         ซิลวาโน คลองแห\n",
       "2             ทรัพย์จุไร\n",
       "3                ร่มฉัตร\n",
       "4     ร่มรื่นริเวอร์ไซด์\n",
       "5     ศิรดา แกรนด์ วิลล์\n",
       "6  ศุภาลัย การ์เด้นวิลล์\n",
       "7                  Mplus\n",
       "8                กุณสิริ\n",
       "9      พฤกษา แกรนด์วิลล์"
      ]
     },
     "execution_count": 13,
     "metadata": {},
     "output_type": "execute_result"
    }
   ],
   "source": [
    "smap_df.head(10)"
   ]
  },
  {
   "cell_type": "code",
   "execution_count": 14,
   "id": "ca5cf00b",
   "metadata": {},
   "outputs": [
    {
     "data": {
      "text/html": [
       "<div>\n",
       "<style scoped>\n",
       "    .dataframe tbody tr th:only-of-type {\n",
       "        vertical-align: middle;\n",
       "    }\n",
       "\n",
       "    .dataframe tbody tr th {\n",
       "        vertical-align: top;\n",
       "    }\n",
       "\n",
       "    .dataframe thead th {\n",
       "        text-align: right;\n",
       "    }\n",
       "</style>\n",
       "<table border=\"1\" class=\"dataframe\">\n",
       "  <thead>\n",
       "    <tr style=\"text-align: right;\">\n",
       "      <th></th>\n",
       "      <th>project_name_th</th>\n",
       "    </tr>\n",
       "  </thead>\n",
       "  <tbody>\n",
       "    <tr>\n",
       "      <th>0</th>\n",
       "      <td>สีวลี สุวรรณภูมิ</td>\n",
       "    </tr>\n",
       "    <tr>\n",
       "      <th>1</th>\n",
       "      <td>บ้าน ณ ชเล เพลส</td>\n",
       "    </tr>\n",
       "    <tr>\n",
       "      <th>2</th>\n",
       "      <td>บ้านกัญญาเฮ้าส์ 3</td>\n",
       "    </tr>\n",
       "    <tr>\n",
       "      <th>3</th>\n",
       "      <td>บ้านเปี่ยมสุข 2</td>\n",
       "    </tr>\n",
       "    <tr>\n",
       "      <th>4</th>\n",
       "      <td>พฤกษาวิลล์ 38/1 หนามแดง-เทพารักษ์</td>\n",
       "    </tr>\n",
       "    <tr>\n",
       "      <th>5</th>\n",
       "      <td>บ้านพฤกษา 45 บางใหญ่</td>\n",
       "    </tr>\n",
       "    <tr>\n",
       "      <th>6</th>\n",
       "      <td>พนาสนธิ์ ซิตี้ ศรีนครินทร์</td>\n",
       "    </tr>\n",
       "    <tr>\n",
       "      <th>7</th>\n",
       "      <td>เพอร์เฟค พาร์ค บางบัวทอง</td>\n",
       "    </tr>\n",
       "    <tr>\n",
       "      <th>8</th>\n",
       "      <td>บ้านคุณาภัทร 5</td>\n",
       "    </tr>\n",
       "    <tr>\n",
       "      <th>9</th>\n",
       "      <td>บ้านเคหะธานี 4</td>\n",
       "    </tr>\n",
       "  </tbody>\n",
       "</table>\n",
       "</div>"
      ],
      "text/plain": [
       "                     project_name_th\n",
       "0                   สีวลี สุวรรณภูมิ\n",
       "1                    บ้าน ณ ชเล เพลส\n",
       "2                  บ้านกัญญาเฮ้าส์ 3\n",
       "3                    บ้านเปี่ยมสุข 2\n",
       "4  พฤกษาวิลล์ 38/1 หนามแดง-เทพารักษ์\n",
       "5               บ้านพฤกษา 45 บางใหญ่\n",
       "6         พนาสนธิ์ ซิตี้ ศรีนครินทร์\n",
       "7           เพอร์เฟค พาร์ค บางบัวทอง\n",
       "8                     บ้านคุณาภัทร 5\n",
       "9                     บ้านเคหะธานี 4"
      ]
     },
     "execution_count": 14,
     "metadata": {},
     "output_type": "execute_result"
    }
   ],
   "source": [
    "baannia_df.head(10)"
   ]
  },
  {
   "cell_type": "markdown",
   "id": "ad19b29d",
   "metadata": {},
   "source": [
    "# Processing data"
   ]
  },
  {
   "cell_type": "code",
   "execution_count": 15,
   "id": "c6cf026a",
   "metadata": {},
   "outputs": [
    {
     "data": {
      "text/plain": [
       "(13581, 1)"
      ]
     },
     "execution_count": 15,
     "metadata": {},
     "output_type": "execute_result"
    }
   ],
   "source": [
    "smap_df.shape"
   ]
  },
  {
   "cell_type": "code",
   "execution_count": 16,
   "id": "a8107d88",
   "metadata": {},
   "outputs": [
    {
     "data": {
      "text/plain": [
       "(8058, 1)"
      ]
     },
     "execution_count": 16,
     "metadata": {},
     "output_type": "execute_result"
    }
   ],
   "source": [
    "baannia_df.shape"
   ]
  },
  {
   "cell_type": "code",
   "execution_count": 17,
   "id": "2aa5b96b",
   "metadata": {},
   "outputs": [
    {
     "name": "stdout",
     "output_type": "stream",
     "text": [
      "True\n"
     ]
    }
   ],
   "source": [
    "# check equivalence\n",
    "print(lk82(\"กรูฟวิลล์ อยุธยา 3\") == lk82(\"กรูฟวิล อยุธยา 3\"))"
   ]
  },
  {
   "cell_type": "code",
   "execution_count": 18,
   "id": "88c2f6a5",
   "metadata": {},
   "outputs": [
    {
     "data": {
      "text/plain": [
       "'กรูฟวิลล์อยุธยา3'"
      ]
     },
     "execution_count": 18,
     "metadata": {},
     "output_type": "execute_result"
    }
   ],
   "source": [
    "re.sub(r\"[^a-zA-Z0-9ก-๙]\", \"\", \"กรูฟวิลล์ อยุธยา 3\")"
   ]
  },
  {
   "cell_type": "code",
   "execution_count": 19,
   "id": "2fcd282e",
   "metadata": {},
   "outputs": [],
   "source": [
    "smap_df[\"hs_name\"] = smap_df.apply(lambda x: re.sub(r\"[^a-zA-Z0-9ก-๙]\", \"\", x[\"hs_nm\"]),axis=1)\n",
    "baannia_df[\"hs_name\"] = baannia_df.apply(lambda x: re.sub(r\"[^a-zA-Z0-9ก-๙]\", \"\", x[\"project_name_th\"]),axis=1)"
   ]
  },
  {
   "cell_type": "code",
   "execution_count": 20,
   "id": "059b23dd",
   "metadata": {},
   "outputs": [
    {
     "data": {
      "text/html": [
       "<div>\n",
       "<style scoped>\n",
       "    .dataframe tbody tr th:only-of-type {\n",
       "        vertical-align: middle;\n",
       "    }\n",
       "\n",
       "    .dataframe tbody tr th {\n",
       "        vertical-align: top;\n",
       "    }\n",
       "\n",
       "    .dataframe thead th {\n",
       "        text-align: right;\n",
       "    }\n",
       "</style>\n",
       "<table border=\"1\" class=\"dataframe\">\n",
       "  <thead>\n",
       "    <tr style=\"text-align: right;\">\n",
       "      <th></th>\n",
       "      <th>hs_nm</th>\n",
       "      <th>hs_name</th>\n",
       "    </tr>\n",
       "  </thead>\n",
       "  <tbody>\n",
       "    <tr>\n",
       "      <th>0</th>\n",
       "      <td>วงศ์ทองโคกเมา 2</td>\n",
       "      <td>วงศ์ทองโคกเมา2</td>\n",
       "    </tr>\n",
       "    <tr>\n",
       "      <th>1</th>\n",
       "      <td>ซิลวาโน คลองแห</td>\n",
       "      <td>ซิลวาโนคลองแห</td>\n",
       "    </tr>\n",
       "    <tr>\n",
       "      <th>2</th>\n",
       "      <td>ทรัพย์จุไร</td>\n",
       "      <td>ทรัพย์จุไร</td>\n",
       "    </tr>\n",
       "    <tr>\n",
       "      <th>3</th>\n",
       "      <td>ร่มฉัตร</td>\n",
       "      <td>ร่มฉัตร</td>\n",
       "    </tr>\n",
       "    <tr>\n",
       "      <th>4</th>\n",
       "      <td>ร่มรื่นริเวอร์ไซด์</td>\n",
       "      <td>ร่มรื่นริเวอร์ไซด์</td>\n",
       "    </tr>\n",
       "    <tr>\n",
       "      <th>5</th>\n",
       "      <td>ศิรดา แกรนด์ วิลล์</td>\n",
       "      <td>ศิรดาแกรนด์วิลล์</td>\n",
       "    </tr>\n",
       "    <tr>\n",
       "      <th>6</th>\n",
       "      <td>ศุภาลัย การ์เด้นวิลล์</td>\n",
       "      <td>ศุภาลัยการ์เด้นวิลล์</td>\n",
       "    </tr>\n",
       "    <tr>\n",
       "      <th>7</th>\n",
       "      <td>Mplus</td>\n",
       "      <td>Mplus</td>\n",
       "    </tr>\n",
       "    <tr>\n",
       "      <th>8</th>\n",
       "      <td>กุณสิริ</td>\n",
       "      <td>กุณสิริ</td>\n",
       "    </tr>\n",
       "    <tr>\n",
       "      <th>9</th>\n",
       "      <td>พฤกษา แกรนด์วิลล์</td>\n",
       "      <td>พฤกษาแกรนด์วิลล์</td>\n",
       "    </tr>\n",
       "  </tbody>\n",
       "</table>\n",
       "</div>"
      ],
      "text/plain": [
       "                   hs_nm               hs_name\n",
       "0        วงศ์ทองโคกเมา 2        วงศ์ทองโคกเมา2\n",
       "1         ซิลวาโน คลองแห         ซิลวาโนคลองแห\n",
       "2             ทรัพย์จุไร            ทรัพย์จุไร\n",
       "3                ร่มฉัตร               ร่มฉัตร\n",
       "4     ร่มรื่นริเวอร์ไซด์    ร่มรื่นริเวอร์ไซด์\n",
       "5     ศิรดา แกรนด์ วิลล์      ศิรดาแกรนด์วิลล์\n",
       "6  ศุภาลัย การ์เด้นวิลล์  ศุภาลัยการ์เด้นวิลล์\n",
       "7                  Mplus                 Mplus\n",
       "8                กุณสิริ               กุณสิริ\n",
       "9      พฤกษา แกรนด์วิลล์      พฤกษาแกรนด์วิลล์"
      ]
     },
     "execution_count": 20,
     "metadata": {},
     "output_type": "execute_result"
    }
   ],
   "source": [
    "smap_df.head(10)"
   ]
  },
  {
   "cell_type": "code",
   "execution_count": 21,
   "id": "05bf2a2f",
   "metadata": {},
   "outputs": [
    {
     "data": {
      "text/html": [
       "<div>\n",
       "<style scoped>\n",
       "    .dataframe tbody tr th:only-of-type {\n",
       "        vertical-align: middle;\n",
       "    }\n",
       "\n",
       "    .dataframe tbody tr th {\n",
       "        vertical-align: top;\n",
       "    }\n",
       "\n",
       "    .dataframe thead th {\n",
       "        text-align: right;\n",
       "    }\n",
       "</style>\n",
       "<table border=\"1\" class=\"dataframe\">\n",
       "  <thead>\n",
       "    <tr style=\"text-align: right;\">\n",
       "      <th></th>\n",
       "      <th>project_name_th</th>\n",
       "      <th>hs_name</th>\n",
       "    </tr>\n",
       "  </thead>\n",
       "  <tbody>\n",
       "    <tr>\n",
       "      <th>8048</th>\n",
       "      <td>นินญา ราชพฤกษ์</td>\n",
       "      <td>นินญาราชพฤกษ์</td>\n",
       "    </tr>\n",
       "    <tr>\n",
       "      <th>8049</th>\n",
       "      <td>บ้านเวียงพิงค์วิลล่า</td>\n",
       "      <td>บ้านเวียงพิงค์วิลล่า</td>\n",
       "    </tr>\n",
       "    <tr>\n",
       "      <th>8050</th>\n",
       "      <td>สุรินทร์วิลเลจ</td>\n",
       "      <td>สุรินทร์วิลเลจ</td>\n",
       "    </tr>\n",
       "    <tr>\n",
       "      <th>8051</th>\n",
       "      <td>ดิ ไอดอล 1 เลียบคลองทวีวัฒนา</td>\n",
       "      <td>ดิไอดอล1เลียบคลองทวีวัฒนา</td>\n",
       "    </tr>\n",
       "    <tr>\n",
       "      <th>8052</th>\n",
       "      <td>เดอะ แพลนท์ ปากเกร็ด</td>\n",
       "      <td>เดอะแพลนท์ปากเกร็ด</td>\n",
       "    </tr>\n",
       "    <tr>\n",
       "      <th>8053</th>\n",
       "      <td>เดอะ เซ็นทรัล รีเจ้นท์ อัสสัมชัญ-ศรีราชา</td>\n",
       "      <td>เดอะเซ็นทรัลรีเจ้นท์อัสสัมชัญศรีราชา</td>\n",
       "    </tr>\n",
       "    <tr>\n",
       "      <th>8054</th>\n",
       "      <td>เดอะ เพลส กาญจนาภิเษก-ราชพฤกษ์</td>\n",
       "      <td>เดอะเพลสกาญจนาภิเษกราชพฤกษ์</td>\n",
       "    </tr>\n",
       "    <tr>\n",
       "      <th>8055</th>\n",
       "      <td>บ้านธนารักษ์ ชลบุรี</td>\n",
       "      <td>บ้านธนารักษ์ชลบุรี</td>\n",
       "    </tr>\n",
       "    <tr>\n",
       "      <th>8056</th>\n",
       "      <td>บ้านพัทธนันท์ สัตหีบ</td>\n",
       "      <td>บ้านพัทธนันท์สัตหีบ</td>\n",
       "    </tr>\n",
       "    <tr>\n",
       "      <th>8057</th>\n",
       "      <td>วิเศษสุขนคร โครงการ 27 - ประชาอุทิศ 90</td>\n",
       "      <td>วิเศษสุขนครโครงการ27ประชาอุทิศ90</td>\n",
       "    </tr>\n",
       "  </tbody>\n",
       "</table>\n",
       "</div>"
      ],
      "text/plain": [
       "                               project_name_th  \\\n",
       "8048                            นินญา ราชพฤกษ์   \n",
       "8049                      บ้านเวียงพิงค์วิลล่า   \n",
       "8050                            สุรินทร์วิลเลจ   \n",
       "8051              ดิ ไอดอล 1 เลียบคลองทวีวัฒนา   \n",
       "8052                      เดอะ แพลนท์ ปากเกร็ด   \n",
       "8053  เดอะ เซ็นทรัล รีเจ้นท์ อัสสัมชัญ-ศรีราชา   \n",
       "8054            เดอะ เพลส กาญจนาภิเษก-ราชพฤกษ์   \n",
       "8055                       บ้านธนารักษ์ ชลบุรี   \n",
       "8056                      บ้านพัทธนันท์ สัตหีบ   \n",
       "8057    วิเศษสุขนคร โครงการ 27 - ประชาอุทิศ 90   \n",
       "\n",
       "                                   hs_name  \n",
       "8048                         นินญาราชพฤกษ์  \n",
       "8049                  บ้านเวียงพิงค์วิลล่า  \n",
       "8050                        สุรินทร์วิลเลจ  \n",
       "8051             ดิไอดอล1เลียบคลองทวีวัฒนา  \n",
       "8052                    เดอะแพลนท์ปากเกร็ด  \n",
       "8053  เดอะเซ็นทรัลรีเจ้นท์อัสสัมชัญศรีราชา  \n",
       "8054           เดอะเพลสกาญจนาภิเษกราชพฤกษ์  \n",
       "8055                    บ้านธนารักษ์ชลบุรี  \n",
       "8056                   บ้านพัทธนันท์สัตหีบ  \n",
       "8057      วิเศษสุขนครโครงการ27ประชาอุทิศ90  "
      ]
     },
     "execution_count": 21,
     "metadata": {},
     "output_type": "execute_result"
    }
   ],
   "source": [
    "baannia_df.tail(10)"
   ]
  },
  {
   "cell_type": "code",
   "execution_count": 22,
   "id": "f1823cd3",
   "metadata": {},
   "outputs": [
    {
     "data": {
      "text/plain": [
       "17"
      ]
     },
     "execution_count": 22,
     "metadata": {},
     "output_type": "execute_result"
    }
   ],
   "source": [
    "distance(\"นินญาราชพฤกษ์\",\"บ้านเวียงพิงค์วิลล่า\")"
   ]
  },
  {
   "cell_type": "code",
   "execution_count": 23,
   "id": "4e84dcee",
   "metadata": {},
   "outputs": [],
   "source": [
    "baannia_df = baannia_df.drop_duplicates(subset=['hs_name'], inplace=False)"
   ]
  },
  {
   "cell_type": "code",
   "execution_count": 24,
   "id": "897409e3",
   "metadata": {},
   "outputs": [],
   "source": [
    "smap_df = smap_df.drop_duplicates(subset=['hs_name'], inplace=False)"
   ]
  },
  {
   "cell_type": "code",
   "execution_count": 25,
   "id": "ed57040c",
   "metadata": {},
   "outputs": [],
   "source": [
    "dis_ls = []\n",
    "shouse_ls = []\n",
    "prev_house = \"\"\n",
    "bhouse = \"เดอะแพลนท์ปากเกร็ด\"\n",
    "for shouse in list(smap_df[\"hs_name\"]):\n",
    "    dis = distance(bhouse,shouse)\n",
    "    dis_ls.append(dis)\n",
    "    shouse_ls.append(shouse)\n",
    "    \n"
   ]
  },
  {
   "cell_type": "code",
   "execution_count": 26,
   "id": "eb23f949",
   "metadata": {
    "scrolled": false
   },
   "outputs": [
    {
     "data": {
      "text/plain": [
       "3621"
      ]
     },
     "execution_count": 26,
     "metadata": {},
     "output_type": "execute_result"
    }
   ],
   "source": [
    "dis_ls.index(min(dis_ls))"
   ]
  },
  {
   "cell_type": "code",
   "execution_count": 27,
   "id": "31e3af3c",
   "metadata": {},
   "outputs": [
    {
     "data": {
      "text/plain": [
       "'เดอะแพลนท์ปากเกร็ด'"
      ]
     },
     "execution_count": 27,
     "metadata": {},
     "output_type": "execute_result"
    }
   ],
   "source": [
    "shouse_ls[3621]"
   ]
  },
  {
   "cell_type": "code",
   "execution_count": 28,
   "id": "c1104e71",
   "metadata": {},
   "outputs": [
    {
     "data": {
      "text/plain": [
       "'เดอะ แพลนท์ ปากเกร็ด'"
      ]
     },
     "execution_count": 28,
     "metadata": {},
     "output_type": "execute_result"
    }
   ],
   "source": [
    "smap_df.iloc[3621,0]"
   ]
  },
  {
   "cell_type": "code",
   "execution_count": 29,
   "id": "26a98383",
   "metadata": {},
   "outputs": [],
   "source": [
    "min_dis_ls = []\n",
    "similar_hs_ls = []\n",
    "similar_hs_org_ls = []\n",
    "for bhouse in list(baannia_df[\"hs_name\"]):\n",
    "    dis_ls = []\n",
    "    shouse_ls = []\n",
    "    for shouse in list(smap_df[\"hs_name\"]):\n",
    "        dis = distance(bhouse,shouse)\n",
    "        dis_ls.append(dis)\n",
    "        shouse_ls.append(shouse)\n",
    "    \n",
    "    min_dis = min(dis_ls)\n",
    "    simi_hs = shouse_ls[dis_ls.index(min(dis_ls))]\n",
    "    simi_hs_org = smap_df.iloc[dis_ls.index(min(dis_ls)),0]\n",
    "    \n",
    "    min_dis_ls.append(min_dis)\n",
    "    similar_hs_ls.append(simi_hs)\n",
    "    similar_hs_org_ls.append(simi_hs_org)\n",
    "    \n",
    "    "
   ]
  },
  {
   "cell_type": "code",
   "execution_count": 30,
   "id": "f583d8b7",
   "metadata": {},
   "outputs": [
    {
     "data": {
      "text/plain": [
       "8040"
      ]
     },
     "execution_count": 30,
     "metadata": {},
     "output_type": "execute_result"
    }
   ],
   "source": [
    "len(min_dis_ls)"
   ]
  },
  {
   "cell_type": "code",
   "execution_count": 31,
   "id": "e43745ac",
   "metadata": {},
   "outputs": [
    {
     "data": {
      "text/plain": [
       "8040"
      ]
     },
     "execution_count": 31,
     "metadata": {},
     "output_type": "execute_result"
    }
   ],
   "source": [
    "len(similar_hs_ls)"
   ]
  },
  {
   "cell_type": "code",
   "execution_count": 32,
   "id": "34458965",
   "metadata": {},
   "outputs": [],
   "source": [
    "baannia_pred_df = baannia_df[:]"
   ]
  },
  {
   "cell_type": "code",
   "execution_count": 33,
   "id": "646fe002",
   "metadata": {},
   "outputs": [
    {
     "name": "stderr",
     "output_type": "stream",
     "text": [
      "D:\\Users\\pimawat.m\\AppData\\Local\\Temp\\ipykernel_131048\\741063588.py:1: SettingWithCopyWarning: \n",
      "A value is trying to be set on a copy of a slice from a DataFrame.\n",
      "Try using .loc[row_indexer,col_indexer] = value instead\n",
      "\n",
      "See the caveats in the documentation: https://pandas.pydata.org/pandas-docs/stable/user_guide/indexing.html#returning-a-view-versus-a-copy\n",
      "  baannia_pred_df[\"min_dis\"] = min_dis_ls\n",
      "D:\\Users\\pimawat.m\\AppData\\Local\\Temp\\ipykernel_131048\\741063588.py:2: SettingWithCopyWarning: \n",
      "A value is trying to be set on a copy of a slice from a DataFrame.\n",
      "Try using .loc[row_indexer,col_indexer] = value instead\n",
      "\n",
      "See the caveats in the documentation: https://pandas.pydata.org/pandas-docs/stable/user_guide/indexing.html#returning-a-view-versus-a-copy\n",
      "  baannia_pred_df[\"pred_hs_nm_smap\"] = similar_hs_ls\n",
      "D:\\Users\\pimawat.m\\AppData\\Local\\Temp\\ipykernel_131048\\741063588.py:3: SettingWithCopyWarning: \n",
      "A value is trying to be set on a copy of a slice from a DataFrame.\n",
      "Try using .loc[row_indexer,col_indexer] = value instead\n",
      "\n",
      "See the caveats in the documentation: https://pandas.pydata.org/pandas-docs/stable/user_guide/indexing.html#returning-a-view-versus-a-copy\n",
      "  baannia_pred_df[\"pred_hs_nm_smap_org\"] = similar_hs_org_ls\n"
     ]
    }
   ],
   "source": [
    "baannia_pred_df[\"min_dis\"] = min_dis_ls\n",
    "baannia_pred_df[\"pred_hs_nm_smap\"] = similar_hs_ls\n",
    "baannia_pred_df[\"pred_hs_nm_smap_org\"] = similar_hs_org_ls"
   ]
  },
  {
   "cell_type": "code",
   "execution_count": 34,
   "id": "1bc6837f",
   "metadata": {},
   "outputs": [
    {
     "data": {
      "text/html": [
       "<div>\n",
       "<style scoped>\n",
       "    .dataframe tbody tr th:only-of-type {\n",
       "        vertical-align: middle;\n",
       "    }\n",
       "\n",
       "    .dataframe tbody tr th {\n",
       "        vertical-align: top;\n",
       "    }\n",
       "\n",
       "    .dataframe thead th {\n",
       "        text-align: right;\n",
       "    }\n",
       "</style>\n",
       "<table border=\"1\" class=\"dataframe\">\n",
       "  <thead>\n",
       "    <tr style=\"text-align: right;\">\n",
       "      <th></th>\n",
       "      <th>project_name_th</th>\n",
       "      <th>hs_name</th>\n",
       "      <th>min_dis</th>\n",
       "      <th>pred_hs_nm_smap</th>\n",
       "      <th>pred_hs_nm_smap_org</th>\n",
       "    </tr>\n",
       "  </thead>\n",
       "  <tbody>\n",
       "    <tr>\n",
       "      <th>0</th>\n",
       "      <td>สีวลี สุวรรณภูมิ</td>\n",
       "      <td>สีวลีสุวรรณภูมิ</td>\n",
       "      <td>0</td>\n",
       "      <td>สีวลีสุวรรณภูมิ</td>\n",
       "      <td>สีวลี สุวรรณภูมิ</td>\n",
       "    </tr>\n",
       "    <tr>\n",
       "      <th>1</th>\n",
       "      <td>บ้าน ณ ชเล เพลส</td>\n",
       "      <td>บ้านณชเลเพลส</td>\n",
       "      <td>4</td>\n",
       "      <td>บ้านฉางเพลส</td>\n",
       "      <td>บ้านฉางเพลส</td>\n",
       "    </tr>\n",
       "    <tr>\n",
       "      <th>2</th>\n",
       "      <td>บ้านกัญญาเฮ้าส์ 3</td>\n",
       "      <td>บ้านกัญญาเฮ้าส์3</td>\n",
       "      <td>4</td>\n",
       "      <td>กัญญาเฮ้าส์3</td>\n",
       "      <td>กัญญาเฮ้าส์ 3</td>\n",
       "    </tr>\n",
       "    <tr>\n",
       "      <th>3</th>\n",
       "      <td>บ้านเปี่ยมสุข 2</td>\n",
       "      <td>บ้านเปี่ยมสุข2</td>\n",
       "      <td>1</td>\n",
       "      <td>บ้านเปี่ยมสุข</td>\n",
       "      <td>บ้านเปี่ยมสุข</td>\n",
       "    </tr>\n",
       "    <tr>\n",
       "      <th>4</th>\n",
       "      <td>พฤกษาวิลล์ 38/1 หนามแดง-เทพารักษ์</td>\n",
       "      <td>พฤกษาวิลล์381หนามแดงเทพารักษ์</td>\n",
       "      <td>8</td>\n",
       "      <td>พฤกษาวิลล์381หนามแดงบางนา</td>\n",
       "      <td>พฤกษาวิลล์ 38/1 หนามแดง-บางนา</td>\n",
       "    </tr>\n",
       "    <tr>\n",
       "      <th>...</th>\n",
       "      <td>...</td>\n",
       "      <td>...</td>\n",
       "      <td>...</td>\n",
       "      <td>...</td>\n",
       "      <td>...</td>\n",
       "    </tr>\n",
       "    <tr>\n",
       "      <th>8053</th>\n",
       "      <td>เดอะ เซ็นทรัล รีเจ้นท์ อัสสัมชัญ-ศรีราชา</td>\n",
       "      <td>เดอะเซ็นทรัลรีเจ้นท์อัสสัมชัญศรีราชา</td>\n",
       "      <td>7</td>\n",
       "      <td>เดอะเซ็นทรัลซิตี้อัสสัมชัญศรีราชา</td>\n",
       "      <td>เดอะ เซ็นทรัล ซิตี้ อัสสัมชัญ-ศรีราชา</td>\n",
       "    </tr>\n",
       "    <tr>\n",
       "      <th>8054</th>\n",
       "      <td>เดอะ เพลส กาญจนาภิเษก-ราชพฤกษ์</td>\n",
       "      <td>เดอะเพลสกาญจนาภิเษกราชพฤกษ์</td>\n",
       "      <td>5</td>\n",
       "      <td>เดอะวิลเลจกาญจนาภิเษกราชพฤกษ์</td>\n",
       "      <td>เดอะวิลเลจ กาญจนาภิเษก-ราชพฤกษ์</td>\n",
       "    </tr>\n",
       "    <tr>\n",
       "      <th>8055</th>\n",
       "      <td>บ้านธนารักษ์ ชลบุรี</td>\n",
       "      <td>บ้านธนารักษ์ชลบุรี</td>\n",
       "      <td>8</td>\n",
       "      <td>บ้านกรุงไทยชลบุรี</td>\n",
       "      <td>บ้านกรุงไทย ชลบุรี</td>\n",
       "    </tr>\n",
       "    <tr>\n",
       "      <th>8056</th>\n",
       "      <td>บ้านพัทธนันท์ สัตหีบ</td>\n",
       "      <td>บ้านพัทธนันท์สัตหีบ</td>\n",
       "      <td>10</td>\n",
       "      <td>บ้านพัธนชัย</td>\n",
       "      <td>บ้านพัธนชัย</td>\n",
       "    </tr>\n",
       "    <tr>\n",
       "      <th>8057</th>\n",
       "      <td>วิเศษสุขนคร โครงการ 27 - ประชาอุทิศ 90</td>\n",
       "      <td>วิเศษสุขนครโครงการ27ประชาอุทิศ90</td>\n",
       "      <td>2</td>\n",
       "      <td>วิเศษสุขนครโครงการ16ประชาอุทิศ90</td>\n",
       "      <td>วิเศษสุขนคร โครงการ 16 ประชาอุทิศ 90</td>\n",
       "    </tr>\n",
       "  </tbody>\n",
       "</table>\n",
       "<p>8040 rows × 5 columns</p>\n",
       "</div>"
      ],
      "text/plain": [
       "                               project_name_th  \\\n",
       "0                             สีวลี สุวรรณภูมิ   \n",
       "1                              บ้าน ณ ชเล เพลส   \n",
       "2                            บ้านกัญญาเฮ้าส์ 3   \n",
       "3                              บ้านเปี่ยมสุข 2   \n",
       "4            พฤกษาวิลล์ 38/1 หนามแดง-เทพารักษ์   \n",
       "...                                        ...   \n",
       "8053  เดอะ เซ็นทรัล รีเจ้นท์ อัสสัมชัญ-ศรีราชา   \n",
       "8054            เดอะ เพลส กาญจนาภิเษก-ราชพฤกษ์   \n",
       "8055                       บ้านธนารักษ์ ชลบุรี   \n",
       "8056                      บ้านพัทธนันท์ สัตหีบ   \n",
       "8057    วิเศษสุขนคร โครงการ 27 - ประชาอุทิศ 90   \n",
       "\n",
       "                                   hs_name  min_dis  \\\n",
       "0                          สีวลีสุวรรณภูมิ        0   \n",
       "1                             บ้านณชเลเพลส        4   \n",
       "2                         บ้านกัญญาเฮ้าส์3        4   \n",
       "3                           บ้านเปี่ยมสุข2        1   \n",
       "4            พฤกษาวิลล์381หนามแดงเทพารักษ์        8   \n",
       "...                                    ...      ...   \n",
       "8053  เดอะเซ็นทรัลรีเจ้นท์อัสสัมชัญศรีราชา        7   \n",
       "8054           เดอะเพลสกาญจนาภิเษกราชพฤกษ์        5   \n",
       "8055                    บ้านธนารักษ์ชลบุรี        8   \n",
       "8056                   บ้านพัทธนันท์สัตหีบ       10   \n",
       "8057      วิเศษสุขนครโครงการ27ประชาอุทิศ90        2   \n",
       "\n",
       "                        pred_hs_nm_smap                    pred_hs_nm_smap_org  \n",
       "0                       สีวลีสุวรรณภูมิ                       สีวลี สุวรรณภูมิ  \n",
       "1                           บ้านฉางเพลส                            บ้านฉางเพลส  \n",
       "2                          กัญญาเฮ้าส์3                          กัญญาเฮ้าส์ 3  \n",
       "3                         บ้านเปี่ยมสุข                          บ้านเปี่ยมสุข  \n",
       "4             พฤกษาวิลล์381หนามแดงบางนา          พฤกษาวิลล์ 38/1 หนามแดง-บางนา  \n",
       "...                                 ...                                    ...  \n",
       "8053  เดอะเซ็นทรัลซิตี้อัสสัมชัญศรีราชา  เดอะ เซ็นทรัล ซิตี้ อัสสัมชัญ-ศรีราชา  \n",
       "8054      เดอะวิลเลจกาญจนาภิเษกราชพฤกษ์        เดอะวิลเลจ กาญจนาภิเษก-ราชพฤกษ์  \n",
       "8055                  บ้านกรุงไทยชลบุรี                     บ้านกรุงไทย ชลบุรี  \n",
       "8056                        บ้านพัธนชัย                            บ้านพัธนชัย  \n",
       "8057   วิเศษสุขนครโครงการ16ประชาอุทิศ90   วิเศษสุขนคร โครงการ 16 ประชาอุทิศ 90  \n",
       "\n",
       "[8040 rows x 5 columns]"
      ]
     },
     "execution_count": 34,
     "metadata": {},
     "output_type": "execute_result"
    }
   ],
   "source": [
    "baannia_pred_df"
   ]
  },
  {
   "cell_type": "code",
   "execution_count": 35,
   "id": "e8a4bde9",
   "metadata": {},
   "outputs": [],
   "source": [
    "min_dis_ls2 = []\n",
    "similar_hs_ls2 = []\n",
    "similar_hs_org_ls2 = []\n",
    "for bhouse in list(baannia_df[\"hs_name\"]):\n",
    "    dis_ls = []\n",
    "    shouse_ls = []\n",
    "    for shouse in list(smap_df[\"hs_name\"]):\n",
    "        dis = ratio(bhouse,shouse)\n",
    "        dis_ls.append(dis)\n",
    "        shouse_ls.append(shouse)\n",
    "    \n",
    "    min_dis = max(dis_ls)\n",
    "    simi_hs = shouse_ls[dis_ls.index(max(dis_ls))]\n",
    "    simi_hs_org = smap_df.iloc[dis_ls.index(max(dis_ls)),0]\n",
    "    \n",
    "    min_dis_ls2.append(min_dis)\n",
    "    similar_hs_ls2.append(simi_hs)\n",
    "    similar_hs_org_ls2.append(simi_hs_org)"
   ]
  },
  {
   "cell_type": "code",
   "execution_count": 36,
   "id": "ddf9e709",
   "metadata": {},
   "outputs": [
    {
     "name": "stderr",
     "output_type": "stream",
     "text": [
      "D:\\Users\\pimawat.m\\AppData\\Local\\Temp\\ipykernel_131048\\1533037361.py:1: SettingWithCopyWarning: \n",
      "A value is trying to be set on a copy of a slice from a DataFrame.\n",
      "Try using .loc[row_indexer,col_indexer] = value instead\n",
      "\n",
      "See the caveats in the documentation: https://pandas.pydata.org/pandas-docs/stable/user_guide/indexing.html#returning-a-view-versus-a-copy\n",
      "  baannia_pred_df[\"max_ratio\"] = min_dis_ls2\n",
      "D:\\Users\\pimawat.m\\AppData\\Local\\Temp\\ipykernel_131048\\1533037361.py:2: SettingWithCopyWarning: \n",
      "A value is trying to be set on a copy of a slice from a DataFrame.\n",
      "Try using .loc[row_indexer,col_indexer] = value instead\n",
      "\n",
      "See the caveats in the documentation: https://pandas.pydata.org/pandas-docs/stable/user_guide/indexing.html#returning-a-view-versus-a-copy\n",
      "  baannia_pred_df[\"pred_hs_nm_smap_rat\"] = similar_hs_ls2\n",
      "D:\\Users\\pimawat.m\\AppData\\Local\\Temp\\ipykernel_131048\\1533037361.py:3: SettingWithCopyWarning: \n",
      "A value is trying to be set on a copy of a slice from a DataFrame.\n",
      "Try using .loc[row_indexer,col_indexer] = value instead\n",
      "\n",
      "See the caveats in the documentation: https://pandas.pydata.org/pandas-docs/stable/user_guide/indexing.html#returning-a-view-versus-a-copy\n",
      "  baannia_pred_df[\"pred_hs_nm_smap_org_rat\"] = similar_hs_org_ls2\n"
     ]
    }
   ],
   "source": [
    "baannia_pred_df[\"max_ratio\"] = min_dis_ls2\n",
    "baannia_pred_df[\"pred_hs_nm_smap_rat\"] = similar_hs_ls2\n",
    "baannia_pred_df[\"pred_hs_nm_smap_org_rat\"] = similar_hs_org_ls2"
   ]
  },
  {
   "cell_type": "code",
   "execution_count": 41,
   "id": "2929be54",
   "metadata": {},
   "outputs": [
    {
     "data": {
      "text/html": [
       "<div>\n",
       "<style scoped>\n",
       "    .dataframe tbody tr th:only-of-type {\n",
       "        vertical-align: middle;\n",
       "    }\n",
       "\n",
       "    .dataframe tbody tr th {\n",
       "        vertical-align: top;\n",
       "    }\n",
       "\n",
       "    .dataframe thead th {\n",
       "        text-align: right;\n",
       "    }\n",
       "</style>\n",
       "<table border=\"1\" class=\"dataframe\">\n",
       "  <thead>\n",
       "    <tr style=\"text-align: right;\">\n",
       "      <th></th>\n",
       "      <th>project_name_th</th>\n",
       "      <th>hs_name</th>\n",
       "      <th>min_dis</th>\n",
       "      <th>pred_hs_nm_smap</th>\n",
       "      <th>pred_hs_nm_smap_org</th>\n",
       "      <th>max_ratio</th>\n",
       "      <th>pred_hs_nm_smap_rat</th>\n",
       "      <th>pred_hs_nm_smap_org_rat</th>\n",
       "    </tr>\n",
       "  </thead>\n",
       "  <tbody>\n",
       "    <tr>\n",
       "      <th>0</th>\n",
       "      <td>สีวลี สุวรรณภูมิ</td>\n",
       "      <td>สีวลีสุวรรณภูมิ</td>\n",
       "      <td>0</td>\n",
       "      <td>สีวลีสุวรรณภูมิ</td>\n",
       "      <td>สีวลี สุวรรณภูมิ</td>\n",
       "      <td>1.000000</td>\n",
       "      <td>สีวลีสุวรรณภูมิ</td>\n",
       "      <td>สีวลี สุวรรณภูมิ</td>\n",
       "    </tr>\n",
       "    <tr>\n",
       "      <th>1</th>\n",
       "      <td>บ้าน ณ ชเล เพลส</td>\n",
       "      <td>บ้านณชเลเพลส</td>\n",
       "      <td>4</td>\n",
       "      <td>บ้านฉางเพลส</td>\n",
       "      <td>บ้านฉางเพลส</td>\n",
       "      <td>0.720000</td>\n",
       "      <td>บ้านณัชชาพลัส</td>\n",
       "      <td>บ้านณัชชา พลัส</td>\n",
       "    </tr>\n",
       "    <tr>\n",
       "      <th>2</th>\n",
       "      <td>บ้านกัญญาเฮ้าส์ 3</td>\n",
       "      <td>บ้านกัญญาเฮ้าส์3</td>\n",
       "      <td>4</td>\n",
       "      <td>กัญญาเฮ้าส์3</td>\n",
       "      <td>กัญญาเฮ้าส์ 3</td>\n",
       "      <td>0.857143</td>\n",
       "      <td>กัญญาเฮ้าส์3</td>\n",
       "      <td>กัญญาเฮ้าส์ 3</td>\n",
       "    </tr>\n",
       "    <tr>\n",
       "      <th>3</th>\n",
       "      <td>บ้านเปี่ยมสุข 2</td>\n",
       "      <td>บ้านเปี่ยมสุข2</td>\n",
       "      <td>1</td>\n",
       "      <td>บ้านเปี่ยมสุข</td>\n",
       "      <td>บ้านเปี่ยมสุข</td>\n",
       "      <td>0.962963</td>\n",
       "      <td>บ้านเปี่ยมสุข</td>\n",
       "      <td>บ้านเปี่ยมสุข</td>\n",
       "    </tr>\n",
       "    <tr>\n",
       "      <th>4</th>\n",
       "      <td>พฤกษาวิลล์ 38/1 หนามแดง-เทพารักษ์</td>\n",
       "      <td>พฤกษาวิลล์381หนามแดงเทพารักษ์</td>\n",
       "      <td>8</td>\n",
       "      <td>พฤกษาวิลล์381หนามแดงบางนา</td>\n",
       "      <td>พฤกษาวิลล์ 38/1 หนามแดง-บางนา</td>\n",
       "      <td>0.823529</td>\n",
       "      <td>พฤกษาวิลล์871เทพารักษ์</td>\n",
       "      <td>พฤกษาวิลล์ 87/1 เทพารักษ์</td>\n",
       "    </tr>\n",
       "    <tr>\n",
       "      <th>5</th>\n",
       "      <td>บ้านพฤกษา 45 บางใหญ่</td>\n",
       "      <td>บ้านพฤกษา45บางใหญ่</td>\n",
       "      <td>0</td>\n",
       "      <td>บ้านพฤกษา45บางใหญ่</td>\n",
       "      <td>บ้านพฤกษา 45 บางใหญ่</td>\n",
       "      <td>1.000000</td>\n",
       "      <td>บ้านพฤกษา45บางใหญ่</td>\n",
       "      <td>บ้านพฤกษา 45 บางใหญ่</td>\n",
       "    </tr>\n",
       "    <tr>\n",
       "      <th>6</th>\n",
       "      <td>พนาสนธิ์ ซิตี้ ศรีนครินทร์</td>\n",
       "      <td>พนาสนธิ์ซิตี้ศรีนครินทร์</td>\n",
       "      <td>9</td>\n",
       "      <td>อินนิซิโอศรีนครินทร์</td>\n",
       "      <td>อินนิซิโอ ศรีนครินทร์</td>\n",
       "      <td>0.727273</td>\n",
       "      <td>อินนิซิโอศรีนครินทร์</td>\n",
       "      <td>อินนิซิโอ ศรีนครินทร์</td>\n",
       "    </tr>\n",
       "    <tr>\n",
       "      <th>7</th>\n",
       "      <td>เพอร์เฟค พาร์ค บางบัวทอง</td>\n",
       "      <td>เพอร์เฟคพาร์คบางบัวทอง</td>\n",
       "      <td>0</td>\n",
       "      <td>เพอร์เฟคพาร์คบางบัวทอง</td>\n",
       "      <td>เพอร์เฟค พาร์ค บางบัวทอง</td>\n",
       "      <td>1.000000</td>\n",
       "      <td>เพอร์เฟคพาร์คบางบัวทอง</td>\n",
       "      <td>เพอร์เฟค พาร์ค บางบัวทอง</td>\n",
       "    </tr>\n",
       "    <tr>\n",
       "      <th>8</th>\n",
       "      <td>บ้านคุณาภัทร 5</td>\n",
       "      <td>บ้านคุณาภัทร5</td>\n",
       "      <td>1</td>\n",
       "      <td>บ้านคุณาภัทร7</td>\n",
       "      <td>บ้านคุณาภัทร 7</td>\n",
       "      <td>0.923077</td>\n",
       "      <td>บ้านคุณาภัทร7</td>\n",
       "      <td>บ้านคุณาภัทร 7</td>\n",
       "    </tr>\n",
       "    <tr>\n",
       "      <th>9</th>\n",
       "      <td>บ้านเคหะธานี 4</td>\n",
       "      <td>บ้านเคหะธานี4</td>\n",
       "      <td>4</td>\n",
       "      <td>เคหะธานี4</td>\n",
       "      <td>เคหะธานี 4</td>\n",
       "      <td>0.818182</td>\n",
       "      <td>เคหะธานี4</td>\n",
       "      <td>เคหะธานี 4</td>\n",
       "    </tr>\n",
       "    <tr>\n",
       "      <th>10</th>\n",
       "      <td>โกลเด้น ทาวน์ ปิ่นเกล้า-จรัญสนิทวงศ์</td>\n",
       "      <td>โกลเด้นทาวน์ปิ่นเกล้าจรัญสนิทวงศ์</td>\n",
       "      <td>0</td>\n",
       "      <td>โกลเด้นทาวน์ปิ่นเกล้าจรัญสนิทวงศ์</td>\n",
       "      <td>โกลเด้น ทาวน์ ปิ่นเกล้า-จรัญสนิทวงศ์</td>\n",
       "      <td>1.000000</td>\n",
       "      <td>โกลเด้นทาวน์ปิ่นเกล้าจรัญสนิทวงศ์</td>\n",
       "      <td>โกลเด้น ทาวน์ ปิ่นเกล้า-จรัญสนิทวงศ์</td>\n",
       "    </tr>\n",
       "    <tr>\n",
       "      <th>11</th>\n",
       "      <td>โนเบิล พาร์ค บางพลี</td>\n",
       "      <td>โนเบิลพาร์คบางพลี</td>\n",
       "      <td>7</td>\n",
       "      <td>พีเพิลพาร์คเพลส</td>\n",
       "      <td>พีเพิล พาร์ค เพลส</td>\n",
       "      <td>0.625000</td>\n",
       "      <td>พีเพิลพาร์คเพลส</td>\n",
       "      <td>พีเพิล พาร์ค เพลส</td>\n",
       "    </tr>\n",
       "    <tr>\n",
       "      <th>12</th>\n",
       "      <td>มัณฑิรา เทพารักษ์ กม.12</td>\n",
       "      <td>มัณฑิราเทพารักษ์กม12</td>\n",
       "      <td>4</td>\n",
       "      <td>มัณฑิราเทพารักษ์</td>\n",
       "      <td>มัณฑิรา เทพารักษ์</td>\n",
       "      <td>0.888889</td>\n",
       "      <td>มัณฑิราเทพารักษ์</td>\n",
       "      <td>มัณฑิรา เทพารักษ์</td>\n",
       "    </tr>\n",
       "    <tr>\n",
       "      <th>13</th>\n",
       "      <td>พฤกษา ไลท์ ล็อกซ์ สุขุมวิท-เทพารักษ์</td>\n",
       "      <td>พฤกษาไลท์ล็อกซ์สุขุมวิทเทพารักษ์</td>\n",
       "      <td>0</td>\n",
       "      <td>พฤกษาไลท์ล็อกซ์สุขุมวิทเทพารักษ์</td>\n",
       "      <td>พฤกษาไลท์ ล็อกซ์ (สุขุมวิท-เทพารักษ์)</td>\n",
       "      <td>1.000000</td>\n",
       "      <td>พฤกษาไลท์ล็อกซ์สุขุมวิทเทพารักษ์</td>\n",
       "      <td>พฤกษาไลท์ ล็อกซ์ (สุขุมวิท-เทพารักษ์)</td>\n",
       "    </tr>\n",
       "    <tr>\n",
       "      <th>14</th>\n",
       "      <td>กิตยา แลนด์ ซอยประชาสรรค์</td>\n",
       "      <td>กิตยาแลนด์ซอยประชาสรรค์</td>\n",
       "      <td>13</td>\n",
       "      <td>พัทยาแลนด์แอนด์เฮ้าส์</td>\n",
       "      <td>พัทยาแลนด์แอนด์เฮ้าส์</td>\n",
       "      <td>0.530612</td>\n",
       "      <td>พกบัณฑิตย์แลนด์แอนด์เฮ้าส์</td>\n",
       "      <td>พกบัณฑิตย์แลนด์แอนด์เฮ้าส์</td>\n",
       "    </tr>\n",
       "    <tr>\n",
       "      <th>15</th>\n",
       "      <td>วิลเลต ไลท์ ราชพฤกษ์ - ปิ่นเกล้า</td>\n",
       "      <td>วิลเลตไลท์ราชพฤกษ์ปิ่นเกล้า</td>\n",
       "      <td>0</td>\n",
       "      <td>วิลเลตไลท์ราชพฤกษ์ปิ่นเกล้า</td>\n",
       "      <td>วิลเลต ไลท์ ราชพฤกษ์-ปิ่นเกล้า</td>\n",
       "      <td>1.000000</td>\n",
       "      <td>วิลเลตไลท์ราชพฤกษ์ปิ่นเกล้า</td>\n",
       "      <td>วิลเลต ไลท์ ราชพฤกษ์-ปิ่นเกล้า</td>\n",
       "    </tr>\n",
       "    <tr>\n",
       "      <th>16</th>\n",
       "      <td>เดอะ แพลนท์ ซิตี้ นวมินทร์</td>\n",
       "      <td>เดอะแพลนท์ซิตี้นวมินทร์</td>\n",
       "      <td>0</td>\n",
       "      <td>เดอะแพลนท์ซิตี้นวมินทร์</td>\n",
       "      <td>เดอะแพลนท์ ซิตี้ นวมินทร์</td>\n",
       "      <td>1.000000</td>\n",
       "      <td>เดอะแพลนท์ซิตี้นวมินทร์</td>\n",
       "      <td>เดอะแพลนท์ ซิตี้ นวมินทร์</td>\n",
       "    </tr>\n",
       "    <tr>\n",
       "      <th>17</th>\n",
       "      <td>บ้านอยู่เจริญ 779</td>\n",
       "      <td>บ้านอยู่เจริญ779</td>\n",
       "      <td>3</td>\n",
       "      <td>บ้านอยู่เจริญ2</td>\n",
       "      <td>บ้านอยู่เจริญ 2</td>\n",
       "      <td>0.866667</td>\n",
       "      <td>บ้านอยู่เจริญ2</td>\n",
       "      <td>บ้านอยู่เจริญ 2</td>\n",
       "    </tr>\n",
       "    <tr>\n",
       "      <th>18</th>\n",
       "      <td>พนาสนธิ์ วิลล่า แพรกษา</td>\n",
       "      <td>พนาสนธิ์วิลล่าแพรกษา</td>\n",
       "      <td>0</td>\n",
       "      <td>พนาสนธิ์วิลล่าแพรกษา</td>\n",
       "      <td>พนาสนธิ์ วิลล่า แพรกษา</td>\n",
       "      <td>1.000000</td>\n",
       "      <td>พนาสนธิ์วิลล่าแพรกษา</td>\n",
       "      <td>พนาสนธิ์ วิลล่า แพรกษา</td>\n",
       "    </tr>\n",
       "    <tr>\n",
       "      <th>19</th>\n",
       "      <td>บ้านพฤกษา 30/1 บ้านกล้วย-ไทรน้อย</td>\n",
       "      <td>บ้านพฤกษา301บ้านกล้วยไทรน้อย</td>\n",
       "      <td>8</td>\n",
       "      <td>บ้านธงสิริ3บ้านกล้วยไทรน้อย</td>\n",
       "      <td>บ้านธงสิริ 3 บ้านกล้วย-ไทรน้อย</td>\n",
       "      <td>0.763636</td>\n",
       "      <td>บ้านธงสิริ3บ้านกล้วยไทรน้อย</td>\n",
       "      <td>บ้านธงสิริ 3 บ้านกล้วย-ไทรน้อย</td>\n",
       "    </tr>\n",
       "  </tbody>\n",
       "</table>\n",
       "</div>"
      ],
      "text/plain": [
       "                         project_name_th                            hs_name  \\\n",
       "0                       สีวลี สุวรรณภูมิ                    สีวลีสุวรรณภูมิ   \n",
       "1                        บ้าน ณ ชเล เพลส                       บ้านณชเลเพลส   \n",
       "2                      บ้านกัญญาเฮ้าส์ 3                   บ้านกัญญาเฮ้าส์3   \n",
       "3                        บ้านเปี่ยมสุข 2                     บ้านเปี่ยมสุข2   \n",
       "4      พฤกษาวิลล์ 38/1 หนามแดง-เทพารักษ์      พฤกษาวิลล์381หนามแดงเทพารักษ์   \n",
       "5                   บ้านพฤกษา 45 บางใหญ่                 บ้านพฤกษา45บางใหญ่   \n",
       "6             พนาสนธิ์ ซิตี้ ศรีนครินทร์           พนาสนธิ์ซิตี้ศรีนครินทร์   \n",
       "7               เพอร์เฟค พาร์ค บางบัวทอง             เพอร์เฟคพาร์คบางบัวทอง   \n",
       "8                         บ้านคุณาภัทร 5                      บ้านคุณาภัทร5   \n",
       "9                         บ้านเคหะธานี 4                      บ้านเคหะธานี4   \n",
       "10  โกลเด้น ทาวน์ ปิ่นเกล้า-จรัญสนิทวงศ์  โกลเด้นทาวน์ปิ่นเกล้าจรัญสนิทวงศ์   \n",
       "11                   โนเบิล พาร์ค บางพลี                  โนเบิลพาร์คบางพลี   \n",
       "12               มัณฑิรา เทพารักษ์ กม.12               มัณฑิราเทพารักษ์กม12   \n",
       "13  พฤกษา ไลท์ ล็อกซ์ สุขุมวิท-เทพารักษ์   พฤกษาไลท์ล็อกซ์สุขุมวิทเทพารักษ์   \n",
       "14             กิตยา แลนด์ ซอยประชาสรรค์            กิตยาแลนด์ซอยประชาสรรค์   \n",
       "15      วิลเลต ไลท์ ราชพฤกษ์ - ปิ่นเกล้า        วิลเลตไลท์ราชพฤกษ์ปิ่นเกล้า   \n",
       "16            เดอะ แพลนท์ ซิตี้ นวมินทร์            เดอะแพลนท์ซิตี้นวมินทร์   \n",
       "17                     บ้านอยู่เจริญ 779                   บ้านอยู่เจริญ779   \n",
       "18                พนาสนธิ์ วิลล่า แพรกษา               พนาสนธิ์วิลล่าแพรกษา   \n",
       "19      บ้านพฤกษา 30/1 บ้านกล้วย-ไทรน้อย       บ้านพฤกษา301บ้านกล้วยไทรน้อย   \n",
       "\n",
       "    min_dis                    pred_hs_nm_smap  \\\n",
       "0         0                    สีวลีสุวรรณภูมิ   \n",
       "1         4                        บ้านฉางเพลส   \n",
       "2         4                       กัญญาเฮ้าส์3   \n",
       "3         1                      บ้านเปี่ยมสุข   \n",
       "4         8          พฤกษาวิลล์381หนามแดงบางนา   \n",
       "5         0                 บ้านพฤกษา45บางใหญ่   \n",
       "6         9               อินนิซิโอศรีนครินทร์   \n",
       "7         0             เพอร์เฟคพาร์คบางบัวทอง   \n",
       "8         1                      บ้านคุณาภัทร7   \n",
       "9         4                          เคหะธานี4   \n",
       "10        0  โกลเด้นทาวน์ปิ่นเกล้าจรัญสนิทวงศ์   \n",
       "11        7                    พีเพิลพาร์คเพลส   \n",
       "12        4                   มัณฑิราเทพารักษ์   \n",
       "13        0   พฤกษาไลท์ล็อกซ์สุขุมวิทเทพารักษ์   \n",
       "14       13              พัทยาแลนด์แอนด์เฮ้าส์   \n",
       "15        0        วิลเลตไลท์ราชพฤกษ์ปิ่นเกล้า   \n",
       "16        0            เดอะแพลนท์ซิตี้นวมินทร์   \n",
       "17        3                     บ้านอยู่เจริญ2   \n",
       "18        0               พนาสนธิ์วิลล่าแพรกษา   \n",
       "19        8        บ้านธงสิริ3บ้านกล้วยไทรน้อย   \n",
       "\n",
       "                      pred_hs_nm_smap_org  max_ratio  \\\n",
       "0                        สีวลี สุวรรณภูมิ   1.000000   \n",
       "1                             บ้านฉางเพลส   0.720000   \n",
       "2                           กัญญาเฮ้าส์ 3   0.857143   \n",
       "3                           บ้านเปี่ยมสุข   0.962963   \n",
       "4           พฤกษาวิลล์ 38/1 หนามแดง-บางนา   0.823529   \n",
       "5                    บ้านพฤกษา 45 บางใหญ่   1.000000   \n",
       "6                   อินนิซิโอ ศรีนครินทร์   0.727273   \n",
       "7                เพอร์เฟค พาร์ค บางบัวทอง   1.000000   \n",
       "8                          บ้านคุณาภัทร 7   0.923077   \n",
       "9                              เคหะธานี 4   0.818182   \n",
       "10   โกลเด้น ทาวน์ ปิ่นเกล้า-จรัญสนิทวงศ์   1.000000   \n",
       "11                      พีเพิล พาร์ค เพลส   0.625000   \n",
       "12                      มัณฑิรา เทพารักษ์   0.888889   \n",
       "13  พฤกษาไลท์ ล็อกซ์ (สุขุมวิท-เทพารักษ์)   1.000000   \n",
       "14                  พัทยาแลนด์แอนด์เฮ้าส์   0.530612   \n",
       "15         วิลเลต ไลท์ ราชพฤกษ์-ปิ่นเกล้า   1.000000   \n",
       "16              เดอะแพลนท์ ซิตี้ นวมินทร์   1.000000   \n",
       "17                        บ้านอยู่เจริญ 2   0.866667   \n",
       "18                 พนาสนธิ์ วิลล่า แพรกษา   1.000000   \n",
       "19         บ้านธงสิริ 3 บ้านกล้วย-ไทรน้อย   0.763636   \n",
       "\n",
       "                  pred_hs_nm_smap_rat                pred_hs_nm_smap_org_rat  \n",
       "0                     สีวลีสุวรรณภูมิ                       สีวลี สุวรรณภูมิ  \n",
       "1                       บ้านณัชชาพลัส                         บ้านณัชชา พลัส  \n",
       "2                        กัญญาเฮ้าส์3                          กัญญาเฮ้าส์ 3  \n",
       "3                       บ้านเปี่ยมสุข                          บ้านเปี่ยมสุข  \n",
       "4              พฤกษาวิลล์871เทพารักษ์              พฤกษาวิลล์ 87/1 เทพารักษ์  \n",
       "5                  บ้านพฤกษา45บางใหญ่                   บ้านพฤกษา 45 บางใหญ่  \n",
       "6                อินนิซิโอศรีนครินทร์                  อินนิซิโอ ศรีนครินทร์  \n",
       "7              เพอร์เฟคพาร์คบางบัวทอง               เพอร์เฟค พาร์ค บางบัวทอง  \n",
       "8                       บ้านคุณาภัทร7                         บ้านคุณาภัทร 7  \n",
       "9                           เคหะธานี4                             เคหะธานี 4  \n",
       "10  โกลเด้นทาวน์ปิ่นเกล้าจรัญสนิทวงศ์   โกลเด้น ทาวน์ ปิ่นเกล้า-จรัญสนิทวงศ์  \n",
       "11                    พีเพิลพาร์คเพลส                      พีเพิล พาร์ค เพลส  \n",
       "12                   มัณฑิราเทพารักษ์                      มัณฑิรา เทพารักษ์  \n",
       "13   พฤกษาไลท์ล็อกซ์สุขุมวิทเทพารักษ์  พฤกษาไลท์ ล็อกซ์ (สุขุมวิท-เทพารักษ์)  \n",
       "14         พกบัณฑิตย์แลนด์แอนด์เฮ้าส์             พกบัณฑิตย์แลนด์แอนด์เฮ้าส์  \n",
       "15        วิลเลตไลท์ราชพฤกษ์ปิ่นเกล้า         วิลเลต ไลท์ ราชพฤกษ์-ปิ่นเกล้า  \n",
       "16            เดอะแพลนท์ซิตี้นวมินทร์              เดอะแพลนท์ ซิตี้ นวมินทร์  \n",
       "17                     บ้านอยู่เจริญ2                        บ้านอยู่เจริญ 2  \n",
       "18               พนาสนธิ์วิลล่าแพรกษา                 พนาสนธิ์ วิลล่า แพรกษา  \n",
       "19        บ้านธงสิริ3บ้านกล้วยไทรน้อย         บ้านธงสิริ 3 บ้านกล้วย-ไทรน้อย  "
      ]
     },
     "execution_count": 41,
     "metadata": {},
     "output_type": "execute_result"
    }
   ],
   "source": [
    "baannia_pred_df.head(20)"
   ]
  },
  {
   "cell_type": "code",
   "execution_count": 38,
   "id": "7833e196",
   "metadata": {},
   "outputs": [],
   "source": [
    "#baannia_pred_df.to_csv('baannia_smap_map_25042024.csv', index=False, encoding ='utf-8-sig')"
   ]
  },
  {
   "cell_type": "markdown",
   "id": "8d9a80d2",
   "metadata": {},
   "source": [
    "# Translate"
   ]
  },
  {
   "cell_type": "code",
   "execution_count": 39,
   "id": "a3a6fe87",
   "metadata": {},
   "outputs": [],
   "source": [
    "translator = Translator()"
   ]
  },
  {
   "cell_type": "code",
   "execution_count": 40,
   "id": "2bf08212",
   "metadata": {},
   "outputs": [
    {
     "ename": "ConnectError",
     "evalue": "[SSL: CERTIFICATE_VERIFY_FAILED] certificate verify failed: unable to get local issuer certificate (_ssl.c:1129)",
     "output_type": "error",
     "traceback": [
      "\u001b[1;31m---------------------------------------------------------------------------\u001b[0m",
      "\u001b[1;31mConnectError\u001b[0m                              Traceback (most recent call last)",
      "\u001b[1;32m~\\AppData\\Local\\Temp\\ipykernel_131048\\2606048903.py\u001b[0m in \u001b[0;36m<module>\u001b[1;34m\u001b[0m\n\u001b[1;32m----> 1\u001b[1;33m \u001b[0mtranslator\u001b[0m\u001b[1;33m.\u001b[0m\u001b[0mtranslate\u001b[0m\u001b[1;33m(\u001b[0m\u001b[1;34m'แอท ดรีม เฮฟเว่น'\u001b[0m\u001b[1;33m)\u001b[0m\u001b[1;33m\u001b[0m\u001b[1;33m\u001b[0m\u001b[0m\n\u001b[0m",
      "\u001b[1;32m~\\AppData\\Roaming\\Python\\Python39\\site-packages\\googletrans\\client.py\u001b[0m in \u001b[0;36mtranslate\u001b[1;34m(self, text, dest, src, **kwargs)\u001b[0m\n\u001b[0;32m    180\u001b[0m \u001b[1;33m\u001b[0m\u001b[0m\n\u001b[0;32m    181\u001b[0m         \u001b[0morigin\u001b[0m \u001b[1;33m=\u001b[0m \u001b[0mtext\u001b[0m\u001b[1;33m\u001b[0m\u001b[1;33m\u001b[0m\u001b[0m\n\u001b[1;32m--> 182\u001b[1;33m         \u001b[0mdata\u001b[0m \u001b[1;33m=\u001b[0m \u001b[0mself\u001b[0m\u001b[1;33m.\u001b[0m\u001b[0m_translate\u001b[0m\u001b[1;33m(\u001b[0m\u001b[0mtext\u001b[0m\u001b[1;33m,\u001b[0m \u001b[0mdest\u001b[0m\u001b[1;33m,\u001b[0m \u001b[0msrc\u001b[0m\u001b[1;33m,\u001b[0m \u001b[0mkwargs\u001b[0m\u001b[1;33m)\u001b[0m\u001b[1;33m\u001b[0m\u001b[1;33m\u001b[0m\u001b[0m\n\u001b[0m\u001b[0;32m    183\u001b[0m \u001b[1;33m\u001b[0m\u001b[0m\n\u001b[0;32m    184\u001b[0m         \u001b[1;31m# this code will be updated when the format is changed.\u001b[0m\u001b[1;33m\u001b[0m\u001b[1;33m\u001b[0m\u001b[0m\n",
      "\u001b[1;32m~\\AppData\\Roaming\\Python\\Python39\\site-packages\\googletrans\\client.py\u001b[0m in \u001b[0;36m_translate\u001b[1;34m(self, text, dest, src, override)\u001b[0m\n\u001b[0;32m     76\u001b[0m \u001b[1;33m\u001b[0m\u001b[0m\n\u001b[0;32m     77\u001b[0m     \u001b[1;32mdef\u001b[0m \u001b[0m_translate\u001b[0m\u001b[1;33m(\u001b[0m\u001b[0mself\u001b[0m\u001b[1;33m,\u001b[0m \u001b[0mtext\u001b[0m\u001b[1;33m,\u001b[0m \u001b[0mdest\u001b[0m\u001b[1;33m,\u001b[0m \u001b[0msrc\u001b[0m\u001b[1;33m,\u001b[0m \u001b[0moverride\u001b[0m\u001b[1;33m)\u001b[0m\u001b[1;33m:\u001b[0m\u001b[1;33m\u001b[0m\u001b[1;33m\u001b[0m\u001b[0m\n\u001b[1;32m---> 78\u001b[1;33m         \u001b[0mtoken\u001b[0m \u001b[1;33m=\u001b[0m \u001b[0mself\u001b[0m\u001b[1;33m.\u001b[0m\u001b[0mtoken_acquirer\u001b[0m\u001b[1;33m.\u001b[0m\u001b[0mdo\u001b[0m\u001b[1;33m(\u001b[0m\u001b[0mtext\u001b[0m\u001b[1;33m)\u001b[0m\u001b[1;33m\u001b[0m\u001b[1;33m\u001b[0m\u001b[0m\n\u001b[0m\u001b[0;32m     79\u001b[0m         params = utils.build_params(query=text, src=src, dest=dest,\n\u001b[0;32m     80\u001b[0m                                     token=token, override=override)\n",
      "\u001b[1;32m~\\AppData\\Roaming\\Python\\Python39\\site-packages\\googletrans\\gtoken.py\u001b[0m in \u001b[0;36mdo\u001b[1;34m(self, text)\u001b[0m\n\u001b[0;32m    192\u001b[0m \u001b[1;33m\u001b[0m\u001b[0m\n\u001b[0;32m    193\u001b[0m     \u001b[1;32mdef\u001b[0m \u001b[0mdo\u001b[0m\u001b[1;33m(\u001b[0m\u001b[0mself\u001b[0m\u001b[1;33m,\u001b[0m \u001b[0mtext\u001b[0m\u001b[1;33m)\u001b[0m\u001b[1;33m:\u001b[0m\u001b[1;33m\u001b[0m\u001b[1;33m\u001b[0m\u001b[0m\n\u001b[1;32m--> 194\u001b[1;33m         \u001b[0mself\u001b[0m\u001b[1;33m.\u001b[0m\u001b[0m_update\u001b[0m\u001b[1;33m(\u001b[0m\u001b[1;33m)\u001b[0m\u001b[1;33m\u001b[0m\u001b[1;33m\u001b[0m\u001b[0m\n\u001b[0m\u001b[0;32m    195\u001b[0m         \u001b[0mtk\u001b[0m \u001b[1;33m=\u001b[0m \u001b[0mself\u001b[0m\u001b[1;33m.\u001b[0m\u001b[0macquire\u001b[0m\u001b[1;33m(\u001b[0m\u001b[0mtext\u001b[0m\u001b[1;33m)\u001b[0m\u001b[1;33m\u001b[0m\u001b[1;33m\u001b[0m\u001b[0m\n\u001b[0;32m    196\u001b[0m         \u001b[1;32mreturn\u001b[0m \u001b[0mtk\u001b[0m\u001b[1;33m\u001b[0m\u001b[1;33m\u001b[0m\u001b[0m\n",
      "\u001b[1;32m~\\AppData\\Roaming\\Python\\Python39\\site-packages\\googletrans\\gtoken.py\u001b[0m in \u001b[0;36m_update\u001b[1;34m(self)\u001b[0m\n\u001b[0;32m     52\u001b[0m             \u001b[1;32mreturn\u001b[0m\u001b[1;33m\u001b[0m\u001b[1;33m\u001b[0m\u001b[0m\n\u001b[0;32m     53\u001b[0m \u001b[1;33m\u001b[0m\u001b[0m\n\u001b[1;32m---> 54\u001b[1;33m         \u001b[0mr\u001b[0m \u001b[1;33m=\u001b[0m \u001b[0mself\u001b[0m\u001b[1;33m.\u001b[0m\u001b[0mclient\u001b[0m\u001b[1;33m.\u001b[0m\u001b[0mget\u001b[0m\u001b[1;33m(\u001b[0m\u001b[0mself\u001b[0m\u001b[1;33m.\u001b[0m\u001b[0mhost\u001b[0m\u001b[1;33m)\u001b[0m\u001b[1;33m\u001b[0m\u001b[1;33m\u001b[0m\u001b[0m\n\u001b[0m\u001b[0;32m     55\u001b[0m \u001b[1;33m\u001b[0m\u001b[0m\n\u001b[0;32m     56\u001b[0m         \u001b[0mraw_tkk\u001b[0m \u001b[1;33m=\u001b[0m \u001b[0mself\u001b[0m\u001b[1;33m.\u001b[0m\u001b[0mRE_TKK\u001b[0m\u001b[1;33m.\u001b[0m\u001b[0msearch\u001b[0m\u001b[1;33m(\u001b[0m\u001b[0mr\u001b[0m\u001b[1;33m.\u001b[0m\u001b[0mtext\u001b[0m\u001b[1;33m)\u001b[0m\u001b[1;33m\u001b[0m\u001b[1;33m\u001b[0m\u001b[0m\n",
      "\u001b[1;32m~\\AppData\\Roaming\\Python\\Python39\\site-packages\\httpx\\_client.py\u001b[0m in \u001b[0;36mget\u001b[1;34m(self, url, params, headers, cookies, auth, allow_redirects, timeout)\u001b[0m\n\u001b[0;32m    753\u001b[0m         \u001b[0mtimeout\u001b[0m\u001b[1;33m:\u001b[0m \u001b[0mtyping\u001b[0m\u001b[1;33m.\u001b[0m\u001b[0mUnion\u001b[0m\u001b[1;33m[\u001b[0m\u001b[0mTimeoutTypes\u001b[0m\u001b[1;33m,\u001b[0m \u001b[0mUnsetType\u001b[0m\u001b[1;33m]\u001b[0m \u001b[1;33m=\u001b[0m \u001b[0mUNSET\u001b[0m\u001b[1;33m,\u001b[0m\u001b[1;33m\u001b[0m\u001b[1;33m\u001b[0m\u001b[0m\n\u001b[0;32m    754\u001b[0m     ) -> Response:\n\u001b[1;32m--> 755\u001b[1;33m         return self.request(\n\u001b[0m\u001b[0;32m    756\u001b[0m             \u001b[1;34m\"GET\"\u001b[0m\u001b[1;33m,\u001b[0m\u001b[1;33m\u001b[0m\u001b[1;33m\u001b[0m\u001b[0m\n\u001b[0;32m    757\u001b[0m             \u001b[0murl\u001b[0m\u001b[1;33m,\u001b[0m\u001b[1;33m\u001b[0m\u001b[1;33m\u001b[0m\u001b[0m\n",
      "\u001b[1;32m~\\AppData\\Roaming\\Python\\Python39\\site-packages\\httpx\\_client.py\u001b[0m in \u001b[0;36mrequest\u001b[1;34m(self, method, url, data, files, json, params, headers, cookies, auth, allow_redirects, timeout)\u001b[0m\n\u001b[0;32m    598\u001b[0m             \u001b[0mcookies\u001b[0m\u001b[1;33m=\u001b[0m\u001b[0mcookies\u001b[0m\u001b[1;33m,\u001b[0m\u001b[1;33m\u001b[0m\u001b[1;33m\u001b[0m\u001b[0m\n\u001b[0;32m    599\u001b[0m         )\n\u001b[1;32m--> 600\u001b[1;33m         return self.send(\n\u001b[0m\u001b[0;32m    601\u001b[0m             \u001b[0mrequest\u001b[0m\u001b[1;33m,\u001b[0m \u001b[0mauth\u001b[0m\u001b[1;33m=\u001b[0m\u001b[0mauth\u001b[0m\u001b[1;33m,\u001b[0m \u001b[0mallow_redirects\u001b[0m\u001b[1;33m=\u001b[0m\u001b[0mallow_redirects\u001b[0m\u001b[1;33m,\u001b[0m \u001b[0mtimeout\u001b[0m\u001b[1;33m=\u001b[0m\u001b[0mtimeout\u001b[0m\u001b[1;33m,\u001b[0m\u001b[1;33m\u001b[0m\u001b[1;33m\u001b[0m\u001b[0m\n\u001b[0;32m    602\u001b[0m         )\n",
      "\u001b[1;32m~\\AppData\\Roaming\\Python\\Python39\\site-packages\\httpx\\_client.py\u001b[0m in \u001b[0;36msend\u001b[1;34m(self, request, stream, auth, allow_redirects, timeout)\u001b[0m\n\u001b[0;32m    618\u001b[0m         \u001b[0mauth\u001b[0m \u001b[1;33m=\u001b[0m \u001b[0mself\u001b[0m\u001b[1;33m.\u001b[0m\u001b[0mbuild_auth\u001b[0m\u001b[1;33m(\u001b[0m\u001b[0mrequest\u001b[0m\u001b[1;33m,\u001b[0m \u001b[0mauth\u001b[0m\u001b[1;33m)\u001b[0m\u001b[1;33m\u001b[0m\u001b[1;33m\u001b[0m\u001b[0m\n\u001b[0;32m    619\u001b[0m \u001b[1;33m\u001b[0m\u001b[0m\n\u001b[1;32m--> 620\u001b[1;33m         response = self.send_handling_redirects(\n\u001b[0m\u001b[0;32m    621\u001b[0m             \u001b[0mrequest\u001b[0m\u001b[1;33m,\u001b[0m \u001b[0mauth\u001b[0m\u001b[1;33m=\u001b[0m\u001b[0mauth\u001b[0m\u001b[1;33m,\u001b[0m \u001b[0mtimeout\u001b[0m\u001b[1;33m=\u001b[0m\u001b[0mtimeout\u001b[0m\u001b[1;33m,\u001b[0m \u001b[0mallow_redirects\u001b[0m\u001b[1;33m=\u001b[0m\u001b[0mallow_redirects\u001b[0m\u001b[1;33m,\u001b[0m\u001b[1;33m\u001b[0m\u001b[1;33m\u001b[0m\u001b[0m\n\u001b[0;32m    622\u001b[0m         )\n",
      "\u001b[1;32m~\\AppData\\Roaming\\Python\\Python39\\site-packages\\httpx\\_client.py\u001b[0m in \u001b[0;36msend_handling_redirects\u001b[1;34m(self, request, auth, timeout, allow_redirects, history)\u001b[0m\n\u001b[0;32m    645\u001b[0m                 \u001b[1;32mraise\u001b[0m \u001b[0mTooManyRedirects\u001b[0m\u001b[1;33m(\u001b[0m\u001b[1;33m)\u001b[0m\u001b[1;33m\u001b[0m\u001b[1;33m\u001b[0m\u001b[0m\n\u001b[0;32m    646\u001b[0m \u001b[1;33m\u001b[0m\u001b[0m\n\u001b[1;32m--> 647\u001b[1;33m             response = self.send_handling_auth(\n\u001b[0m\u001b[0;32m    648\u001b[0m                 \u001b[0mrequest\u001b[0m\u001b[1;33m,\u001b[0m \u001b[0mauth\u001b[0m\u001b[1;33m=\u001b[0m\u001b[0mauth\u001b[0m\u001b[1;33m,\u001b[0m \u001b[0mtimeout\u001b[0m\u001b[1;33m=\u001b[0m\u001b[0mtimeout\u001b[0m\u001b[1;33m,\u001b[0m \u001b[0mhistory\u001b[0m\u001b[1;33m=\u001b[0m\u001b[0mhistory\u001b[0m\u001b[1;33m\u001b[0m\u001b[1;33m\u001b[0m\u001b[0m\n\u001b[0;32m    649\u001b[0m             )\n",
      "\u001b[1;32m~\\AppData\\Roaming\\Python\\Python39\\site-packages\\httpx\\_client.py\u001b[0m in \u001b[0;36msend_handling_auth\u001b[1;34m(self, request, history, auth, timeout)\u001b[0m\n\u001b[0;32m    682\u001b[0m         \u001b[0mrequest\u001b[0m \u001b[1;33m=\u001b[0m \u001b[0mnext\u001b[0m\u001b[1;33m(\u001b[0m\u001b[0mauth_flow\u001b[0m\u001b[1;33m)\u001b[0m\u001b[1;33m\u001b[0m\u001b[1;33m\u001b[0m\u001b[0m\n\u001b[0;32m    683\u001b[0m         \u001b[1;32mwhile\u001b[0m \u001b[1;32mTrue\u001b[0m\u001b[1;33m:\u001b[0m\u001b[1;33m\u001b[0m\u001b[1;33m\u001b[0m\u001b[0m\n\u001b[1;32m--> 684\u001b[1;33m             \u001b[0mresponse\u001b[0m \u001b[1;33m=\u001b[0m \u001b[0mself\u001b[0m\u001b[1;33m.\u001b[0m\u001b[0msend_single_request\u001b[0m\u001b[1;33m(\u001b[0m\u001b[0mrequest\u001b[0m\u001b[1;33m,\u001b[0m \u001b[0mtimeout\u001b[0m\u001b[1;33m)\u001b[0m\u001b[1;33m\u001b[0m\u001b[1;33m\u001b[0m\u001b[0m\n\u001b[0m\u001b[0;32m    685\u001b[0m             \u001b[1;32mif\u001b[0m \u001b[0mauth\u001b[0m\u001b[1;33m.\u001b[0m\u001b[0mrequires_response_body\u001b[0m\u001b[1;33m:\u001b[0m\u001b[1;33m\u001b[0m\u001b[1;33m\u001b[0m\u001b[0m\n\u001b[0;32m    686\u001b[0m                 \u001b[0mresponse\u001b[0m\u001b[1;33m.\u001b[0m\u001b[0mread\u001b[0m\u001b[1;33m(\u001b[0m\u001b[1;33m)\u001b[0m\u001b[1;33m\u001b[0m\u001b[1;33m\u001b[0m\u001b[0m\n",
      "\u001b[1;32m~\\AppData\\Roaming\\Python\\Python39\\site-packages\\httpx\\_client.py\u001b[0m in \u001b[0;36msend_single_request\u001b[1;34m(self, request, timeout)\u001b[0m\n\u001b[0;32m    712\u001b[0m                 \u001b[0mheaders\u001b[0m\u001b[1;33m,\u001b[0m\u001b[1;33m\u001b[0m\u001b[1;33m\u001b[0m\u001b[0m\n\u001b[0;32m    713\u001b[0m                 \u001b[0mstream\u001b[0m\u001b[1;33m,\u001b[0m\u001b[1;33m\u001b[0m\u001b[1;33m\u001b[0m\u001b[0m\n\u001b[1;32m--> 714\u001b[1;33m             \u001b[1;33m)\u001b[0m \u001b[1;33m=\u001b[0m \u001b[0mtransport\u001b[0m\u001b[1;33m.\u001b[0m\u001b[0mrequest\u001b[0m\u001b[1;33m(\u001b[0m\u001b[1;33m\u001b[0m\u001b[1;33m\u001b[0m\u001b[0m\n\u001b[0m\u001b[0;32m    715\u001b[0m                 \u001b[0mrequest\u001b[0m\u001b[1;33m.\u001b[0m\u001b[0mmethod\u001b[0m\u001b[1;33m.\u001b[0m\u001b[0mencode\u001b[0m\u001b[1;33m(\u001b[0m\u001b[1;33m)\u001b[0m\u001b[1;33m,\u001b[0m\u001b[1;33m\u001b[0m\u001b[1;33m\u001b[0m\u001b[0m\n\u001b[0;32m    716\u001b[0m                 \u001b[0mrequest\u001b[0m\u001b[1;33m.\u001b[0m\u001b[0murl\u001b[0m\u001b[1;33m.\u001b[0m\u001b[0mraw\u001b[0m\u001b[1;33m,\u001b[0m\u001b[1;33m\u001b[0m\u001b[1;33m\u001b[0m\u001b[0m\n",
      "\u001b[1;32m~\\AppData\\Roaming\\Python\\Python39\\site-packages\\httpcore\\_sync\\connection_pool.py\u001b[0m in \u001b[0;36mrequest\u001b[1;34m(self, method, url, headers, stream, timeout)\u001b[0m\n\u001b[0;32m    150\u001b[0m \u001b[1;33m\u001b[0m\u001b[0m\n\u001b[0;32m    151\u001b[0m             \u001b[1;32mtry\u001b[0m\u001b[1;33m:\u001b[0m\u001b[1;33m\u001b[0m\u001b[1;33m\u001b[0m\u001b[0m\n\u001b[1;32m--> 152\u001b[1;33m                 response = connection.request(\n\u001b[0m\u001b[0;32m    153\u001b[0m                     \u001b[0mmethod\u001b[0m\u001b[1;33m,\u001b[0m \u001b[0murl\u001b[0m\u001b[1;33m,\u001b[0m \u001b[0mheaders\u001b[0m\u001b[1;33m=\u001b[0m\u001b[0mheaders\u001b[0m\u001b[1;33m,\u001b[0m \u001b[0mstream\u001b[0m\u001b[1;33m=\u001b[0m\u001b[0mstream\u001b[0m\u001b[1;33m,\u001b[0m \u001b[0mtimeout\u001b[0m\u001b[1;33m=\u001b[0m\u001b[0mtimeout\u001b[0m\u001b[1;33m\u001b[0m\u001b[1;33m\u001b[0m\u001b[0m\n\u001b[0;32m    154\u001b[0m                 )\n",
      "\u001b[1;32m~\\AppData\\Roaming\\Python\\Python39\\site-packages\\httpcore\\_sync\\connection.py\u001b[0m in \u001b[0;36mrequest\u001b[1;34m(self, method, url, headers, stream, timeout)\u001b[0m\n\u001b[0;32m     63\u001b[0m                         \u001b[1;34m\"open_socket origin=%r timeout=%r\"\u001b[0m\u001b[1;33m,\u001b[0m \u001b[0mself\u001b[0m\u001b[1;33m.\u001b[0m\u001b[0morigin\u001b[0m\u001b[1;33m,\u001b[0m \u001b[0mtimeout\u001b[0m\u001b[1;33m\u001b[0m\u001b[1;33m\u001b[0m\u001b[0m\n\u001b[0;32m     64\u001b[0m                     )\n\u001b[1;32m---> 65\u001b[1;33m                     \u001b[0mself\u001b[0m\u001b[1;33m.\u001b[0m\u001b[0msocket\u001b[0m \u001b[1;33m=\u001b[0m \u001b[0mself\u001b[0m\u001b[1;33m.\u001b[0m\u001b[0m_open_socket\u001b[0m\u001b[1;33m(\u001b[0m\u001b[0mtimeout\u001b[0m\u001b[1;33m)\u001b[0m\u001b[1;33m\u001b[0m\u001b[1;33m\u001b[0m\u001b[0m\n\u001b[0m\u001b[0;32m     66\u001b[0m                 \u001b[0mself\u001b[0m\u001b[1;33m.\u001b[0m\u001b[0m_create_connection\u001b[0m\u001b[1;33m(\u001b[0m\u001b[0mself\u001b[0m\u001b[1;33m.\u001b[0m\u001b[0msocket\u001b[0m\u001b[1;33m)\u001b[0m\u001b[1;33m\u001b[0m\u001b[1;33m\u001b[0m\u001b[0m\n\u001b[0;32m     67\u001b[0m             \u001b[1;32melif\u001b[0m \u001b[0mself\u001b[0m\u001b[1;33m.\u001b[0m\u001b[0mstate\u001b[0m \u001b[1;32min\u001b[0m \u001b[1;33m(\u001b[0m\u001b[0mConnectionState\u001b[0m\u001b[1;33m.\u001b[0m\u001b[0mREADY\u001b[0m\u001b[1;33m,\u001b[0m \u001b[0mConnectionState\u001b[0m\u001b[1;33m.\u001b[0m\u001b[0mIDLE\u001b[0m\u001b[1;33m)\u001b[0m\u001b[1;33m:\u001b[0m\u001b[1;33m\u001b[0m\u001b[1;33m\u001b[0m\u001b[0m\n",
      "\u001b[1;32m~\\AppData\\Roaming\\Python\\Python39\\site-packages\\httpcore\\_sync\\connection.py\u001b[0m in \u001b[0;36m_open_socket\u001b[1;34m(self, timeout)\u001b[0m\n\u001b[0;32m     83\u001b[0m         \u001b[0mssl_context\u001b[0m \u001b[1;33m=\u001b[0m \u001b[0mself\u001b[0m\u001b[1;33m.\u001b[0m\u001b[0mssl_context\u001b[0m \u001b[1;32mif\u001b[0m \u001b[0mscheme\u001b[0m \u001b[1;33m==\u001b[0m \u001b[1;34mb\"https\"\u001b[0m \u001b[1;32melse\u001b[0m \u001b[1;32mNone\u001b[0m\u001b[1;33m\u001b[0m\u001b[1;33m\u001b[0m\u001b[0m\n\u001b[0;32m     84\u001b[0m         \u001b[1;32mtry\u001b[0m\u001b[1;33m:\u001b[0m\u001b[1;33m\u001b[0m\u001b[1;33m\u001b[0m\u001b[0m\n\u001b[1;32m---> 85\u001b[1;33m             return self.backend.open_tcp_stream(\n\u001b[0m\u001b[0;32m     86\u001b[0m                 \u001b[0mhostname\u001b[0m\u001b[1;33m,\u001b[0m \u001b[0mport\u001b[0m\u001b[1;33m,\u001b[0m \u001b[0mssl_context\u001b[0m\u001b[1;33m,\u001b[0m \u001b[0mtimeout\u001b[0m\u001b[1;33m\u001b[0m\u001b[1;33m\u001b[0m\u001b[0m\n\u001b[0;32m     87\u001b[0m             )\n",
      "\u001b[1;32m~\\AppData\\Roaming\\Python\\Python39\\site-packages\\httpcore\\_backends\\sync.py\u001b[0m in \u001b[0;36mopen_tcp_stream\u001b[1;34m(self, hostname, port, ssl_context, timeout)\u001b[0m\n\u001b[0;32m    137\u001b[0m                     \u001b[0msock\u001b[0m\u001b[1;33m,\u001b[0m \u001b[0mserver_hostname\u001b[0m\u001b[1;33m=\u001b[0m\u001b[0mhostname\u001b[0m\u001b[1;33m.\u001b[0m\u001b[0mdecode\u001b[0m\u001b[1;33m(\u001b[0m\u001b[1;34m\"ascii\"\u001b[0m\u001b[1;33m)\u001b[0m\u001b[1;33m\u001b[0m\u001b[1;33m\u001b[0m\u001b[0m\n\u001b[0;32m    138\u001b[0m                 )\n\u001b[1;32m--> 139\u001b[1;33m             \u001b[1;32mreturn\u001b[0m \u001b[0mSyncSocketStream\u001b[0m\u001b[1;33m(\u001b[0m\u001b[0msock\u001b[0m\u001b[1;33m=\u001b[0m\u001b[0msock\u001b[0m\u001b[1;33m)\u001b[0m\u001b[1;33m\u001b[0m\u001b[1;33m\u001b[0m\u001b[0m\n\u001b[0m\u001b[0;32m    140\u001b[0m \u001b[1;33m\u001b[0m\u001b[0m\n\u001b[0;32m    141\u001b[0m     \u001b[1;32mdef\u001b[0m \u001b[0mcreate_lock\u001b[0m\u001b[1;33m(\u001b[0m\u001b[0mself\u001b[0m\u001b[1;33m)\u001b[0m \u001b[1;33m->\u001b[0m \u001b[0mSyncLock\u001b[0m\u001b[1;33m:\u001b[0m\u001b[1;33m\u001b[0m\u001b[1;33m\u001b[0m\u001b[0m\n",
      "\u001b[1;32mC:\\ProgramData\\Anaconda3\\lib\\contextlib.py\u001b[0m in \u001b[0;36m__exit__\u001b[1;34m(self, typ, value, traceback)\u001b[0m\n\u001b[0;32m    135\u001b[0m                 \u001b[0mvalue\u001b[0m \u001b[1;33m=\u001b[0m \u001b[0mtyp\u001b[0m\u001b[1;33m(\u001b[0m\u001b[1;33m)\u001b[0m\u001b[1;33m\u001b[0m\u001b[1;33m\u001b[0m\u001b[0m\n\u001b[0;32m    136\u001b[0m             \u001b[1;32mtry\u001b[0m\u001b[1;33m:\u001b[0m\u001b[1;33m\u001b[0m\u001b[1;33m\u001b[0m\u001b[0m\n\u001b[1;32m--> 137\u001b[1;33m                 \u001b[0mself\u001b[0m\u001b[1;33m.\u001b[0m\u001b[0mgen\u001b[0m\u001b[1;33m.\u001b[0m\u001b[0mthrow\u001b[0m\u001b[1;33m(\u001b[0m\u001b[0mtyp\u001b[0m\u001b[1;33m,\u001b[0m \u001b[0mvalue\u001b[0m\u001b[1;33m,\u001b[0m \u001b[0mtraceback\u001b[0m\u001b[1;33m)\u001b[0m\u001b[1;33m\u001b[0m\u001b[1;33m\u001b[0m\u001b[0m\n\u001b[0m\u001b[0;32m    138\u001b[0m             \u001b[1;32mexcept\u001b[0m \u001b[0mStopIteration\u001b[0m \u001b[1;32mas\u001b[0m \u001b[0mexc\u001b[0m\u001b[1;33m:\u001b[0m\u001b[1;33m\u001b[0m\u001b[1;33m\u001b[0m\u001b[0m\n\u001b[0;32m    139\u001b[0m                 \u001b[1;31m# Suppress StopIteration *unless* it's the same exception that\u001b[0m\u001b[1;33m\u001b[0m\u001b[1;33m\u001b[0m\u001b[0m\n",
      "\u001b[1;32m~\\AppData\\Roaming\\Python\\Python39\\site-packages\\httpcore\\_exceptions.py\u001b[0m in \u001b[0;36mmap_exceptions\u001b[1;34m(map)\u001b[0m\n\u001b[0;32m     10\u001b[0m         \u001b[1;32mfor\u001b[0m \u001b[0mfrom_exc\u001b[0m\u001b[1;33m,\u001b[0m \u001b[0mto_exc\u001b[0m \u001b[1;32min\u001b[0m \u001b[0mmap\u001b[0m\u001b[1;33m.\u001b[0m\u001b[0mitems\u001b[0m\u001b[1;33m(\u001b[0m\u001b[1;33m)\u001b[0m\u001b[1;33m:\u001b[0m\u001b[1;33m\u001b[0m\u001b[1;33m\u001b[0m\u001b[0m\n\u001b[0;32m     11\u001b[0m             \u001b[1;32mif\u001b[0m \u001b[0misinstance\u001b[0m\u001b[1;33m(\u001b[0m\u001b[0mexc\u001b[0m\u001b[1;33m,\u001b[0m \u001b[0mfrom_exc\u001b[0m\u001b[1;33m)\u001b[0m\u001b[1;33m:\u001b[0m\u001b[1;33m\u001b[0m\u001b[1;33m\u001b[0m\u001b[0m\n\u001b[1;32m---> 12\u001b[1;33m                 \u001b[1;32mraise\u001b[0m \u001b[0mto_exc\u001b[0m\u001b[1;33m(\u001b[0m\u001b[0mexc\u001b[0m\u001b[1;33m)\u001b[0m \u001b[1;32mfrom\u001b[0m \u001b[1;32mNone\u001b[0m\u001b[1;33m\u001b[0m\u001b[1;33m\u001b[0m\u001b[0m\n\u001b[0m\u001b[0;32m     13\u001b[0m         \u001b[1;32mraise\u001b[0m\u001b[1;33m\u001b[0m\u001b[1;33m\u001b[0m\u001b[0m\n\u001b[0;32m     14\u001b[0m \u001b[1;33m\u001b[0m\u001b[0m\n",
      "\u001b[1;31mConnectError\u001b[0m: [SSL: CERTIFICATE_VERIFY_FAILED] certificate verify failed: unable to get local issuer certificate (_ssl.c:1129)"
     ]
    }
   ],
   "source": [
    "translator.translate('แอท ดรีม เฮฟเว่น')"
   ]
  },
  {
   "cell_type": "code",
   "execution_count": null,
   "id": "1d29966d",
   "metadata": {},
   "outputs": [],
   "source": []
  },
  {
   "cell_type": "code",
   "execution_count": null,
   "id": "4805ffa8",
   "metadata": {},
   "outputs": [],
   "source": []
  }
 ],
 "metadata": {
  "kernelspec": {
   "display_name": "Python 3 (ipykernel)",
   "language": "python",
   "name": "python3"
  },
  "language_info": {
   "codemirror_mode": {
    "name": "ipython",
    "version": 3
   },
   "file_extension": ".py",
   "mimetype": "text/x-python",
   "name": "python",
   "nbconvert_exporter": "python",
   "pygments_lexer": "ipython3",
   "version": "3.9.13"
  }
 },
 "nbformat": 4,
 "nbformat_minor": 5
}
